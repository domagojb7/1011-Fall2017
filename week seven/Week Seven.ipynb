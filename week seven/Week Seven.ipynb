{
 "cells": [
  {
   "cell_type": "markdown",
   "metadata": {},
   "source": [
    "# Language Modeling using KenLM"
   ]
  },
  {
   "cell_type": "markdown",
   "metadata": {},
   "source": [
    "First off, you need to install KenLM if you haven't already. \n",
    "- Download stable release and unzip: http://kheafield.com/code/kenlm.tar.gz\n",
    "- Need Boost >= 1.42.0 and bjam\n",
    "    - Ubuntu: `sudo apt-get install libboost-all-dev`\n",
    "    - Mac: `brew install boost; brew install bjam`\n",
    "- Run within kenlm directory:\n",
    "    ```bash\n",
    "    mkdir -p build\n",
    "    cd build\n",
    "    cmake ..\n",
    "    make -j 4\n",
    "    ```\n",
    "- `pip install https://github.com/kpu/kenlm/archive/master.zip`\n",
    "- For more information on KenLM see: https://github.com/kpu/kenlm and http://kheafield.com/code/kenlm/\n",
    "\n",
    "You've already been provided with the binaries for 2 trained language models, `nli_5gram.binary` and `sentiment.binary`."
   ]
  },
  {
   "cell_type": "markdown",
   "metadata": {},
   "source": [
    "Now, load the models!"
   ]
  },
  {
   "cell_type": "code",
   "execution_count": 1,
   "metadata": {
    "collapsed": true
   },
   "outputs": [],
   "source": [
    "import kenlm\n",
    "import os"
   ]
  },
  {
   "cell_type": "code",
   "execution_count": 154,
   "metadata": {
    "collapsed": true
   },
   "outputs": [],
   "source": [
    "nli_model = kenlm.Model(\"nli_5gram.binary\") # Or correct path to binary\n",
    "sent_model =  kenlm.Model(\"sentiment.binary\")"
   ]
  },
  {
   "cell_type": "markdown",
   "metadata": {},
   "source": [
    "Funciton to calculate perplexity and find OOV words,"
   ]
  },
  {
   "cell_type": "code",
   "execution_count": 137,
   "metadata": {
    "collapsed": true
   },
   "outputs": [],
   "source": [
    "def get_ppl(lm, sentences):\n",
    "    \"\"\"\n",
    "    Assume sentences is a list of strings (space delimited sentences)\n",
    "    \"\"\"\n",
    "    total_nll = 0\n",
    "    total_wc = 0\n",
    "    for sent in sentences:\n",
    "        sent = re.sub(r\"([\\w/'+$\\s-]+|[^\\w/'+$\\s-]+)\\s*\", r\"\\1 \", sent)\n",
    "        words = sent.strip().split()\n",
    "        score = lm.score(sent, bos=False, eos=False)\n",
    "        word_count = len(words)\n",
    "        total_wc += word_count\n",
    "        total_nll += score\n",
    "    ppl = 10**-(total_nll/total_wc)\n",
    "    return ppl\n",
    "\n",
    "def get_oov(model, data):\n",
    "    oov = []\n",
    "    vocab = []\n",
    "    for sent in data:\n",
    "        sentence = sent\n",
    "        words =  sentence.split()\n",
    "        vocab += words\n",
    "        # Find out-of-vocabulary words\n",
    "        for w in words:\n",
    "            if w not in model:\n",
    "                    oov.append(w)\n",
    "    return set(oov), set(vocab)"
   ]
  },
  {
   "cell_type": "markdown",
   "metadata": {},
   "source": [
    "Funciton to load data"
   ]
  },
  {
   "cell_type": "code",
   "execution_count": 151,
   "metadata": {
    "collapsed": true
   },
   "outputs": [],
   "source": [
    "def load_data(path):\n",
    "    data = []\n",
    "    with open(path) as f:\n",
    "        for i, line in enumerate(f): \n",
    "            data.append(line)\n",
    "    return data"
   ]
  },
  {
   "cell_type": "markdown",
   "metadata": {},
   "source": [
    "Come up with whatever sentences you like and see how your model performs on them. This score isn't the perplexity but the log probability,"
   ]
  },
  {
   "cell_type": "code",
   "execution_count": null,
   "metadata": {
    "collapsed": true
   },
   "outputs": [],
   "source": [
    "sentence = \"I am a chipmanzee .\"\n",
    "model.score(sentence)"
   ]
  },
  {
   "cell_type": "markdown",
   "metadata": {},
   "source": [
    "Some datasets you could try out:-\n",
    "\n",
    "Billion word dataset: http://www.statmt.org/lm-benchmark/\n",
    "\n",
    "Quaker historical corpus: https://www.woodbrooke.org.uk/resource-library/quaker-historical-corpus/\n",
    "\n",
    "All of Shakespeare: http://norvig.com/ngrams/\n",
    "\n",
    "IMDB: http://ai.stanford.edu/~amaas/data/sentiment/\n",
    "\n",
    "SNLI test set and MultiNLI dev-set (only hypothesis sentences) in data folder."
   ]
  },
  {
   "cell_type": "code",
   "execution_count": 157,
   "metadata": {},
   "outputs": [],
   "source": [
    "data_path = \"../../data/all_quaker.txt\"\n",
    "\n",
    "quaker = load_data(data_path)\n",
    "sentiment = load_data(\"../../data/yelpdata/sentiment_all\")\n",
    "billion_test = load_data(\"../../data/billion_test\")\n",
    "multinli_dev = load_data(\"../../data/multinli_dev_matched_p.txt\")\n",
    "snli_test = load_data(\"../../data/snli_lm/test.txt\")\n",
    "shakespeare = load_data(\"../../data/shakespeare.txt\")"
   ]
  },
  {
   "cell_type": "code",
   "execution_count": 155,
   "metadata": {
    "collapsed": true
   },
   "outputs": [],
   "source": [
    "model = nli_model"
   ]
  },
  {
   "cell_type": "code",
   "execution_count": 144,
   "metadata": {},
   "outputs": [
    {
     "data": {
      "text/plain": [
       "1701.8174826529562"
      ]
     },
     "execution_count": 144,
     "metadata": {},
     "output_type": "execute_result"
    }
   ],
   "source": [
    "get_ppl(model, quaker)"
   ]
  },
  {
   "cell_type": "code",
   "execution_count": 145,
   "metadata": {},
   "outputs": [
    {
     "data": {
      "text/plain": [
       "510.0907503656376"
      ]
     },
     "execution_count": 145,
     "metadata": {},
     "output_type": "execute_result"
    }
   ],
   "source": [
    "get_ppl(model, sentiment)"
   ]
  },
  {
   "cell_type": "code",
   "execution_count": 146,
   "metadata": {},
   "outputs": [
    {
     "data": {
      "text/plain": [
       "1295.7174235467771"
      ]
     },
     "execution_count": 146,
     "metadata": {},
     "output_type": "execute_result"
    }
   ],
   "source": [
    "get_ppl(model, billion_test)"
   ]
  },
  {
   "cell_type": "code",
   "execution_count": 147,
   "metadata": {},
   "outputs": [
    {
     "data": {
      "text/plain": [
       "425.7613430872238"
      ]
     },
     "execution_count": 147,
     "metadata": {},
     "output_type": "execute_result"
    }
   ],
   "source": [
    "get_ppl(model, multinli_dev)"
   ]
  },
  {
   "cell_type": "code",
   "execution_count": 148,
   "metadata": {},
   "outputs": [
    {
     "data": {
      "text/plain": [
       "123.70366597005294"
      ]
     },
     "execution_count": 148,
     "metadata": {},
     "output_type": "execute_result"
    }
   ],
   "source": [
    "get_ppl(model, snli_test)"
   ]
  },
  {
   "cell_type": "code",
   "execution_count": 131,
   "metadata": {},
   "outputs": [
    {
     "data": {
      "text/plain": [
       "667.1144187484307"
      ]
     },
     "execution_count": 131,
     "metadata": {},
     "output_type": "execute_result"
    }
   ],
   "source": [
    "get_ppl(model, snli_test)"
   ]
  },
  {
   "cell_type": "code",
   "execution_count": 158,
   "metadata": {},
   "outputs": [
    {
     "data": {
      "text/plain": [
       "2847.030485468495"
      ]
     },
     "execution_count": 158,
     "metadata": {},
     "output_type": "execute_result"
    }
   ],
   "source": [
    "get_ppl(model, shakespeare)"
   ]
  },
  {
   "cell_type": "code",
   "execution_count": 124,
   "metadata": {},
   "outputs": [],
   "source": [
    "import re\n",
    "all_lines = []\n",
    "with open(\"../../data/multinli_dev_hypothesis_matched.txt\") as f:\n",
    "    for line in f: \n",
    "        line  = re.sub(r\"([\\w/'+$\\s-]+|[^\\w/'+$\\s-]+)\\s*\", r\"\\1 \", line)\n",
    "        all_lines.append(line)\n",
    "        \n",
    "f = open('../../data/multinli_dev_matched_p.txt', 'w')\n",
    "for line in all_lines:\n",
    "    f.write(line+\"\\n\")\n",
    "f.close()"
   ]
  },
  {
   "cell_type": "code",
   "execution_count": null,
   "metadata": {
    "collapsed": true
   },
   "outputs": [],
   "source": []
  }
 ],
 "metadata": {
  "kernelspec": {
   "display_name": "Python 2",
   "language": "python",
   "name": "python2"
  },
  "language_info": {
   "codemirror_mode": {
    "name": "ipython",
    "version": 2
   },
   "file_extension": ".py",
   "mimetype": "text/x-python",
   "name": "python",
   "nbconvert_exporter": "python",
   "pygments_lexer": "ipython2",
   "version": "2.7.13"
  }
 },
 "nbformat": 4,
 "nbformat_minor": 2
}
