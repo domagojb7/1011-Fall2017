{
 "cells": [
  {
   "cell_type": "markdown",
   "metadata": {},
   "source": [
    "# Language Modeling using KenLM"
   ]
  },
  {
   "cell_type": "markdown",
   "metadata": {},
   "source": [
    "First off, you need to install KenLM if you haven't already. \n",
    "- Download stable release and unzip: http://kheafield.com/code/kenlm.tar.gz\n",
    "- Need Boost >= 1.42.0 and bjam\n",
    "    - Ubuntu: `sudo apt-get install libboost-all-dev`\n",
    "    - Mac: `brew install boost; brew install bjam`\n",
    "- Run within kenlm directory:\n",
    "    ```bash\n",
    "    mkdir -p build\n",
    "    cd build\n",
    "    cmake ..\n",
    "    make -j 4\n",
    "    ```\n",
    "- `pip install https://github.com/kpu/kenlm/archive/master.zip`\n",
    "- For more information on KenLM see: https://github.com/kpu/kenlm and http://kheafield.com/code/kenlm/\n",
    "\n",
    "You've already been provided with the binaries for 2 trained language models, `nli_5gram.binary` and `sentiment.binary`."
   ]
  },
  {
   "cell_type": "markdown",
   "metadata": {},
   "source": [
    "Now, load the models!"
   ]
  },
  {
   "cell_type": "code",
   "execution_count": 1,
   "metadata": {
    "collapsed": true
   },
   "outputs": [],
   "source": [
    "import kenlm\n",
    "import os"
   ]
  },
  {
   "cell_type": "code",
   "execution_count": 2,
   "metadata": {
    "collapsed": true
   },
   "outputs": [],
   "source": [
    "nli_model = kenlm.Model(\"nli_5gram.binary\") # Or correct path to binary\n",
    "sent_model =  kenlm.Model(\"sentiment.binary\")"
   ]
  },
  {
   "cell_type": "markdown",
   "metadata": {},
   "source": [
    "Funciton to calculate perplexity and find OOV words,"
   ]
  },
  {
   "cell_type": "code",
   "execution_count": 3,
   "metadata": {
    "collapsed": true
   },
   "outputs": [],
   "source": [
    "def get_ppl(lm, sentences):\n",
    "    \"\"\"\n",
    "    Assume sentences is a list of strings (space delimited sentences)\n",
    "    \"\"\"\n",
    "    total_nll = 0\n",
    "    total_wc = 0\n",
    "    for sent in sentences:\n",
    "        sent = re.sub(r\"([\\w/'+$\\s-]+|[^\\w/'+$\\s-]+)\\s*\", r\"\\1 \", sent)\n",
    "        words = sent.strip().split()\n",
    "        score = lm.score(sent, bos=False, eos=False)\n",
    "        word_count = len(words)\n",
    "        total_wc += word_count\n",
    "        total_nll += score\n",
    "    ppl = 10**-(total_nll/total_wc)\n",
    "    return ppl\n",
    "\n",
    "def get_oov(model, data):\n",
    "    oov = []\n",
    "    vocab = []\n",
    "    for sent in data:\n",
    "        sentence = sent\n",
    "        words =  sentence.split()\n",
    "        vocab += words\n",
    "        # Find out-of-vocabulary words\n",
    "        for w in words:\n",
    "            if w not in model:\n",
    "                    oov.append(w)\n",
    "    return set(oov), set(vocab)"
   ]
  },
  {
   "cell_type": "markdown",
   "metadata": {},
   "source": [
    "Function to load data,"
   ]
  },
  {
   "cell_type": "code",
   "execution_count": 4,
   "metadata": {
    "collapsed": true
   },
   "outputs": [],
   "source": [
    "def load_data(path):\n",
    "    data = []\n",
    "    with open(path) as f:\n",
    "        for i, line in enumerate(f): \n",
    "            data.append(line)\n",
    "    return data"
   ]
  },
  {
   "cell_type": "markdown",
   "metadata": {},
   "source": [
    "Come up with whatever sentences you like and see how your model performs on them. This score isn't the perplexity but the log probability,"
   ]
  },
  {
   "cell_type": "code",
   "execution_count": 8,
   "metadata": {},
   "outputs": [
    {
     "name": "stdout",
     "output_type": "stream",
     "text": [
      "-12.8444375992\n",
      "-20.9499568939\n"
     ]
    }
   ],
   "source": [
    "sentence = \"I am a chipmanzee .\"\n",
    "print(nli_model.score(sentence))\n",
    "print(sent_model.score(sentence))"
   ]
  },
  {
   "cell_type": "markdown",
   "metadata": {},
   "source": [
    "Some datasets you could try out:-\n",
    "\n",
    "Billion word dataset: http://www.statmt.org/lm-benchmark/\n",
    "\n",
    "Quaker historical corpus: https://www.woodbrooke.org.uk/resource-library/quaker-historical-corpus/\n",
    "\n",
    "All of Shakespeare: http://norvig.com/ngrams/\n",
    "\n",
    "IMDB: http://ai.stanford.edu/~amaas/data/sentiment/\n",
    "\n",
    "SNLI test set and MultiNLI dev-set (only hypothesis sentences) in data folder."
   ]
  },
  {
   "cell_type": "code",
   "execution_count": null,
   "metadata": {
    "collapsed": true
   },
   "outputs": [],
   "source": []
  }
 ],
 "metadata": {
  "kernelspec": {
   "display_name": "Python 2",
   "language": "python",
   "name": "python2"
  },
  "language_info": {
   "codemirror_mode": {
    "name": "ipython",
    "version": 2
   },
   "file_extension": ".py",
   "mimetype": "text/x-python",
   "name": "python",
   "nbconvert_exporter": "python",
   "pygments_lexer": "ipython2",
   "version": "2.7.13"
  }
 },
 "nbformat": 4,
 "nbformat_minor": 2
}
